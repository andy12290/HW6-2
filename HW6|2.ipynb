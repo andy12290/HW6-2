{
 "cells": [
  {
   "cell_type": "markdown",
   "metadata": {},
   "source": [
    "- Random Variables Assignment\n",
    "- pp 254-257 Exercises 1-24 odd\n",
    "- DSS770"
   ]
  },
  {
   "cell_type": "code",
   "execution_count": 1,
   "metadata": {
    "collapsed": false
   },
   "outputs": [
    {
     "data": {
      "text/plain": [
       "'success'"
      ]
     },
     "execution_count": 1,
     "metadata": {},
     "output_type": "execute_result"
    }
   ],
   "source": [
    "# 1\n",
    "import random\n",
    "freeThrow = ['success','success','success','failure']\n",
    "random.choice(freeThrow)"
   ]
  },
  {
   "cell_type": "code",
   "execution_count": 2,
   "metadata": {
    "collapsed": false
   },
   "outputs": [
    {
     "data": {
      "text/plain": [
       "'Tail'"
      ]
     },
     "execution_count": 2,
     "metadata": {},
     "output_type": "execute_result"
    }
   ],
   "source": [
    "# 2\n",
    "result = ['Head', 'Tail']\n",
    "random.choice(result)"
   ]
  },
  {
   "cell_type": "code",
   "execution_count": 3,
   "metadata": {
    "collapsed": false
   },
   "outputs": [
    {
     "name": "stdout",
     "output_type": "stream",
     "text": [
      "NO HIT\n"
     ]
    }
   ],
   "source": [
    "# 3\n",
    "result = random.randint(1,1000)\n",
    "if result <= 275:\n",
    "    print('HIT')\n",
    "else:\n",
    "    print(\"NO HIT\")"
   ]
  },
  {
   "cell_type": "code",
   "execution_count": 4,
   "metadata": {
    "collapsed": false
   },
   "outputs": [
    {
     "data": {
      "text/plain": [
       "6"
      ]
     },
     "execution_count": 4,
     "metadata": {},
     "output_type": "execute_result"
    }
   ],
   "source": [
    "# 4\n",
    "die1 = random.randint(1,6)\n",
    "die2 = random.randint(1,6)\n",
    "die1+die2"
   ]
  },
  {
   "cell_type": "code",
   "execution_count": 5,
   "metadata": {
    "collapsed": false
   },
   "outputs": [
    {
     "data": {
      "text/plain": [
       "['ANiket', 'sachine']"
      ]
     },
     "execution_count": 5,
     "metadata": {},
     "output_type": "execute_result"
    }
   ],
   "source": [
    "# 5\n",
    "clubMembers = [\"ANiket\", 'Kale', 'sachine', 'Asim', 'Player']\n",
    "cochairPerson = random.sample(clubMembers,2)\n",
    "cochairPerson"
   ]
  },
  {
   "cell_type": "code",
   "execution_count": 6,
   "metadata": {
    "collapsed": false
   },
   "outputs": [
    {
     "name": "stdout",
     "output_type": "stream",
     "text": [
      "lane 1: Asim\n",
      "lane 2: Player\n",
      "lane 3: sachine\n",
      "lane 4: Kale\n",
      "lane 5: ANiket\n"
     ]
    }
   ],
   "source": [
    "# 7\n",
    "milers = [\"ANiket\", 'Kale', 'sachine', 'Asim', 'Player']\n",
    "random.shuffle(milers)\n",
    "for i in range(1,6):\n",
    "    print(\"lane\", str(i) + ':',milers[i-1])"
   ]
  },
  {
   "cell_type": "code",
   "execution_count": 7,
   "metadata": {
    "collapsed": false
   },
   "outputs": [
    {
     "data": {
      "text/plain": [
       "['u', 'h', 'K']"
      ]
     },
     "execution_count": 7,
     "metadata": {},
     "output_type": "execute_result"
    }
   ],
   "source": [
    "# 9\n",
    "# alphabet generator\n",
    "import string\n",
    "random.sample(string.ascii_letters,3)"
   ]
  },
  {
   "cell_type": "code",
   "execution_count": 8,
   "metadata": {
    "collapsed": false
   },
   "outputs": [
    {
     "name": "stdout",
     "output_type": "stream",
     "text": [
      "26 98\n"
     ]
    }
   ],
   "source": [
    "# 11\n",
    "# EVEN NUMBER\n",
    "n = random.randrange(2,100,2)\n",
    "s = random.randrange(2,100,2)\n",
    "print(n,s)"
   ]
  },
  {
   "cell_type": "code",
   "execution_count": 9,
   "metadata": {
    "collapsed": false
   },
   "outputs": [
    {
     "name": "stdout",
     "output_type": "stream",
     "text": [
      "\n",
      "Okay, you flipped heads 44 times \n",
      "\n",
      "and you flipped tails 56 times \n"
     ]
    }
   ],
   "source": [
    "# 13 \n",
    "# Heads or Tails\n",
    "import random\n",
    "\n",
    "total_heads = 0\n",
    "total_tails = 0\n",
    "count = 0\n",
    "\n",
    "\n",
    "while count < 100:\n",
    "\n",
    "    coin = random.randint(1, 2)\n",
    "\n",
    "    if coin == 1:\n",
    "        total_heads += 1\n",
    "        count += 1\n",
    "\n",
    "    elif coin == 2:\n",
    "        total_tails += 1\n",
    "        count += 1\n",
    "print(\"\\nOkay, you flipped heads\", total_heads, \"times \")\n",
    "print(\"\\nand you flipped tails\", total_tails, \"times \")        "
   ]
  },
  {
   "cell_type": "code",
   "execution_count": 10,
   "metadata": {
    "collapsed": false
   },
   "outputs": [
    {
     "data": {
      "text/plain": [
       "['California\\n', 'Delaware\\n', 'Virginia\\n']"
      ]
     },
     "execution_count": 10,
     "metadata": {},
     "output_type": "execute_result"
    }
   ],
   "source": [
    "# 15\n",
    "infile = open(\"StatesAlpha.txt\", 'r')\n",
    "random.sample(list(infile),3)\n",
    "    "
   ]
  },
  {
   "cell_type": "code",
   "execution_count": 11,
   "metadata": {
    "collapsed": true
   },
   "outputs": [],
   "source": [
    "# 17\n"
   ]
  },
  {
   "cell_type": "code",
   "execution_count": 12,
   "metadata": {
    "collapsed": false
   },
   "outputs": [
    {
     "name": "stdout",
     "output_type": "stream",
     "text": [
      "White Balls [49, 30, 44, 42, 26]\n",
      "Powerball 27\n"
     ]
    }
   ],
   "source": [
    "# 19 \n",
    "n = random.sample(range(1,50),5)\n",
    "print(\"White Balls\", (n))\n",
    "powerball = random.choice(range(1,42))\n",
    "print(\"Powerball\",powerball)"
   ]
  },
  {
   "cell_type": "code",
   "execution_count": 23,
   "metadata": {
    "collapsed": false
   },
   "outputs": [
    {
     "name": "stdout",
     "output_type": "stream",
     "text": [
      "['T', 'T', 'T', 'T', 'T', 'T', 'T', 'H', 'H', 'H', 'T', 'H', 'T', 'H', 'H', 'T', 'T', 'T', 'T', 'H', 'H', 'H', 'H', 'T', 'T', 'T', 'T', 'T', 'T', 'H', 'T']\n"
     ]
    }
   ],
   "source": [
    "# 21\n",
    "list1 = []\n",
    "\n",
    "for row in range(1,32):\n",
    "    coin = random.randint(0,1)\n",
    "    if coin == 0:\n",
    "        list1.append(\"H\")\n",
    "    else:\n",
    "        list1.append(\"T\")        \n",
    "print(str(list1))    \n",
    "\n"
   ]
  },
  {
   "cell_type": "code",
   "execution_count": 30,
   "metadata": {
    "collapsed": false
   },
   "outputs": [],
   "source": [
    "# 23\n",
    "import pickle\n",
    "def main():\n",
    "    datas  = getDictionary(\"DeckOfCardsList.dat\")\n",
    "    print(datas)\n",
    "    \n",
    "def getDictionary(filename):\n",
    "    infile = open(filename, \"rb\")\n",
    "    datas = pickle.load(infile)\n",
    "    infile.close()\n",
    "    return datas\n"
   ]
  },
  {
   "cell_type": "code",
   "execution_count": 31,
   "metadata": {
    "collapsed": false
   },
   "outputs": [
    {
     "name": "stdout",
     "output_type": "stream",
     "text": [
      "['2♠', '3♠', '4♠', '5♠', '6♠', '7♠', '8♠', '9♠', '10♠', 'J♠', 'K♠', 'Q♠', 'A♠', '2♥', '3♥', '4♥', '5♥', '6♥', '7♥', '8♥', '9♥', '10♥', 'J♥', 'K♥', 'Q♥', 'A♥', '2♣', '3♣', '4♣', '5♣', '6♣', '7♣', '8♣', '9♣', '10♣', 'J♣', 'K♣', 'Q♣', 'A♣', '2♦', '3♦', '4♦', '5♦', '6♦', '7♦', '8♦', '9♦', '10♦', 'J♦', 'K♦', 'Q♦', 'A♦']\n"
     ]
    }
   ],
   "source": [
    "main()"
   ]
  }
 ],
 "metadata": {
  "anaconda-cloud": {},
  "kernelspec": {
   "display_name": "Python [Root]",
   "language": "python",
   "name": "Python [Root]"
  },
  "language_info": {
   "codemirror_mode": {
    "name": "ipython",
    "version": 3
   },
   "file_extension": ".py",
   "mimetype": "text/x-python",
   "name": "python",
   "nbconvert_exporter": "python",
   "pygments_lexer": "ipython3",
   "version": "3.5.3"
  }
 },
 "nbformat": 4,
 "nbformat_minor": 0
}
